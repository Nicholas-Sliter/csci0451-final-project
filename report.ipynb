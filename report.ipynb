{
 "cells": [
  {
   "cell_type": "raw",
   "metadata": {},
   "source": [
    "---\n",
    "    title: Classifying MiddCourses Reviews\n",
    "    bibliography: refs.bib\n",
    "\n",
    "---"
   ]
  },
  {
   "attachments": {},
   "cell_type": "markdown",
   "metadata": {},
   "source": [
    "# Abstract"
   ]
  },
  {
   "attachments": {},
   "cell_type": "markdown",
   "metadata": {},
   "source": [
    "# Introduction\n",
    "\n",
    "For most user-generated content (UGC) driven websites, the quality of the the content presented to other users is paramount to the success of the website. For example, on a site like YouTube, the quality of the videos that are recommended to users is a key factor in determining whether or not the user will continue to use the site. Sites that are overrun with spam or low-quality content are often abandoned by users in favor of sites that present less noise.\n",
    "\n",
    "MiddCourses is a website that allows Middlebury students to review courses that they have taken. The site is driven by UGC. And as we see in the previous example, the quality of the reviews that are shown to users is a key factor in determining whether or not the user will:\n",
    "\n",
    "1. gain valuable information about the course they are interested in\n",
    "\n",
    "2. continue to use the site\n",
    "\n",
    "3. recommend the site to other users\n",
    "\n",
    "\n",
    "Creating a method to estimate the quality of a review on MiddCourses will allow better review curation and on-page sorting of reviews. This will allow users to more easily find the information they are looking for and increases the value of the site to users.\n",
    "\n",
    "Additionally, a method to identity low-quality reviews can reduce administrative burden on the site's moderators. Currently, moderators manually review each review that is submitted to the site to check for prohibited content. This is a time-consuming process that could be made more efficient by using a classifier reduce the number of reviews that need to be manually reviewed.\n",
    "\n",
    "Our problem shares some similarities to the problem of spam detection but differs in key ways:\n",
    "\n",
    "1. Low quality content is a superset of spam\n",
    "\n",
    "    While spam is certainly low-quality, not all low-quality content is spam. For example, a review that provides little information about the course is low-quality but not spam. \n",
    "\n",
    "2. Existing filters remove most extremely low-quality content\n",
    "\n",
    "    When reviews are submitted to MiddCourses they are sent through a verification pipeline that tries to determine if the review is spam or if it contains prohibited content. This pipeline is fairly effective at preventing extremely low-quality content from being posted to the site. The pipeline focuses on preventing the following types of content from being posted:\n",
    "\n",
    "    1. Reviews that are too long or too short\n",
    "    2. Reviews that contain any profanity\n",
    "    3. Reviews that contain junk characters (eg \"asdfasdfa\")\n",
    "    4. Reviews that are too self-similar (eg repeating the same phrase over and over)\n",
    "    5. Reviews that don't seem to be in English\n",
    "    6. Reviews that contain padding to make the minimum character count\n",
    "    7. Reviews that are copy-pasted from the course description\n",
    "\n",
    "    While this does not explicitly filter out spam, the site's incentives and authenticate structure provide little incentive to post commercial-type spam reviews. The site is not monetized and non-100-level reviews are not indexed by search engines. This, along with the requirement to have a Middlebury student email address, means that there is little incentive or ability to post spam reviews to the site. And given the authentication requirement, users who post spam reviews can be easily identified and banned from the site.\n",
    "\n",
    "    This means that the remaining low-quality reviews do not contain the same types of content that are typically found in spam. This means that we cannot use the same methods that are used to detect spam to detect these reviews.\n",
    "\n",
    "    These remaining low-quality reviews are typically low-quality for one of the following reasons:\n",
    "\n",
    "    1. **Low-Effort Reviews**: characterized by a lack of detail and a lack of information about the course\n",
    "    2. **Fraudulent Reviews**: characterized by randomness and a lack of coherence\n",
    "    3. **Hyperbolic Reviews**: characterized by excessive polarity and a limited perspective\n",
    "\n",
    "\n",
    "\n",
    "This means our problem is isomorphic to a review helpfulness prediction problem, not a spam detection task.\n",
    "\n",
    "\n",
    "\n",
    "\n",
    "## Related Work\n",
    "\n",
    "We started our research by looking at existing work on review helpfulness prediction. We found that there are two main approaches to this problem:\n",
    "\n",
    "1. **Metadata-based**: uses metadata and computed features to predict helpfulness (@du2019feature; @singh2017singh; @mauro2021user; @liu2007low)\n",
    "2. **Text-based**: uses NLP-based methods or deep learning on review text to predict helpfulness (@9416474; @salminen2022creating; @8288877)\n",
    "\n",
    "\n"
   ]
  },
  {
   "attachments": {},
   "cell_type": "markdown",
   "metadata": {},
   "source": [
    "# Values Statement"
   ]
  },
  {
   "attachments": {},
   "cell_type": "markdown",
   "metadata": {},
   "source": [
    "# Material and Methods"
   ]
  },
  {
   "attachments": {},
   "cell_type": "markdown",
   "metadata": {},
   "source": [
    "## Data"
   ]
  },
  {
   "attachments": {},
   "cell_type": "markdown",
   "metadata": {},
   "source": [
    "## Approach"
   ]
  },
  {
   "attachments": {},
   "cell_type": "markdown",
   "metadata": {},
   "source": [
    "# Results"
   ]
  },
  {
   "attachments": {},
   "cell_type": "markdown",
   "metadata": {},
   "source": [
    "# Concluding Discussion"
   ]
  },
  {
   "attachments": {},
   "cell_type": "markdown",
   "metadata": {},
   "source": [
    "# Group Contributions"
   ]
  },
  {
   "attachments": {},
   "cell_type": "markdown",
   "metadata": {},
   "source": [
    "# Personal Reflection\n",
    "\n",
    "\n"
   ]
  },
  {
   "attachments": {},
   "cell_type": "markdown",
   "metadata": {},
   "source": [
    "# References\n"
   ]
  }
 ],
 "metadata": {
  "language_info": {
   "name": "python"
  },
  "orig_nbformat": 4
 },
 "nbformat": 4,
 "nbformat_minor": 2
}
